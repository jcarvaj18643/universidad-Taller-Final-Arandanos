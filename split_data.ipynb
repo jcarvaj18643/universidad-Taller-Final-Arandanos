{
 "cells": [
  {
   "cell_type": "code",
   "execution_count": 1,
   "metadata": {},
   "outputs": [],
   "source": [
    "import os\n",
    "import shutil\n",
    "import random\n",
    "import json\n",
    "import yaml"
   ]
  },
  {
   "cell_type": "code",
   "execution_count": 2,
   "metadata": {},
   "outputs": [],
   "source": [
    "source_folder = 'output_final'\n",
    "output_folder = 'datasets'\n",
    "train_folder = os.path.join(output_folder, 'train')\n",
    "val_folder = os.path.join(output_folder, 'val')\n",
    "test_folder = os.path.join(output_folder, 'test')"
   ]
  },
  {
   "cell_type": "code",
   "execution_count": 3,
   "metadata": {},
   "outputs": [],
   "source": [
    "# Crear carpetas de salida\n",
    "for folder in [train_folder, val_folder, test_folder]:\n",
    "    os.makedirs(folder, exist_ok=True)\n",
    "\n",
    "# Obtener lista de archivos de imágenes y JSON\n",
    "image_files = [f for f in os.listdir(source_folder) if f.endswith(('.png', '.jpg', '.jpeg'))]\n",
    "json_files = [f for f in os.listdir(source_folder) if f.endswith('.json')]\n",
    "\n",
    "# Leer clases desde los JSON\n",
    "classes = set()\n",
    "for json_file in json_files:\n",
    "    with open(os.path.join(source_folder, json_file), 'r') as file:\n",
    "        data = json.load(file)\n",
    "        for category in data.get('categories', []):\n",
    "            classes.add(category['name'])"
   ]
  },
  {
   "cell_type": "code",
   "execution_count": 4,
   "metadata": {},
   "outputs": [],
   "source": [
    "# Ordenar las clases y asignar un índice\n",
    "classes = sorted(classes)\n",
    "class_to_index = {name: idx for idx, name in enumerate(classes)}\n",
    "\n",
    "# Dividir las imágenes en 70% entrenamiento, 15% validación y 15% prueba\n",
    "random.shuffle(image_files)\n",
    "train_split = int(len(image_files) * 0.7)\n",
    "val_split = int(len(image_files) * 0.85)\n",
    "\n",
    "train_files = image_files[:train_split]\n",
    "val_files = image_files[train_split:val_split]\n",
    "test_files = image_files[val_split:]"
   ]
  },
  {
   "cell_type": "code",
   "execution_count": 5,
   "metadata": {},
   "outputs": [],
   "source": [
    "# Función para mover archivos de imagen y sus JSON asociados\n",
    "def move_files(files, dest_folder):\n",
    "    for file_name in files:\n",
    "        base_name = os.path.splitext(file_name)[0]\n",
    "        image_path = os.path.join(source_folder, file_name)\n",
    "        json_path = os.path.join(source_folder, base_name + '.json')\n",
    "\n",
    "        # Mover la imagen al destino\n",
    "        shutil.copy(image_path, os.path.join(dest_folder, file_name))\n",
    "\n",
    "        # Mover el archivo JSON si existe\n",
    "        if os.path.exists(json_path):\n",
    "            shutil.copy(json_path, os.path.join(dest_folder, base_name + '.json'))"
   ]
  },
  {
   "cell_type": "code",
   "execution_count": 6,
   "metadata": {},
   "outputs": [
    {
     "name": "stdout",
     "output_type": "stream",
     "text": [
      "Archivos distribuidos en datasets\\train, datasets\\val, y datasets\\test\n",
      "Clases detectadas: ['Biche', 'Maduro', 'Rojo', 'biche', 'rojo']\n"
     ]
    }
   ],
   "source": [
    "# Mover archivos a las carpetas correspondientes\n",
    "move_files(train_files, train_folder)\n",
    "move_files(val_files, val_folder)\n",
    "move_files(test_files, test_folder)\n",
    "\n",
    "print(f\"Archivos distribuidos en {train_folder}, {val_folder}, y {test_folder}\")\n",
    "print(f\"Clases detectadas: {classes}\")"
   ]
  },
  {
   "cell_type": "code",
   "execution_count": 7,
   "metadata": {},
   "outputs": [
    {
     "name": "stdout",
     "output_type": "stream",
     "text": [
      "Archivo YAML creado en datasets\\dataset_config.yaml\n"
     ]
    }
   ],
   "source": [
    "# Crear el archivo YAML para YOLO\n",
    "yaml_content = {\n",
    "    'path': f\"/content/{output_folder}\",\n",
    "    'train': 'train',\n",
    "    'val': 'val',\n",
    "    'test': 'test',\n",
    "    'nc': len(classes),  # Número de clases\n",
    "    'names': classes  # Lista de nombres de las clases\n",
    "}\n",
    "\n",
    "yaml_path = os.path.join(output_folder, 'dataset_config.yaml')\n",
    "with open(yaml_path, 'w') as yaml_file:\n",
    "    yaml.dump(yaml_content, yaml_file, default_flow_style=False)\n",
    "\n",
    "print(f\"Archivo YAML creado en {yaml_path}\")"
   ]
  },
  {
   "cell_type": "code",
   "execution_count": 8,
   "metadata": {},
   "outputs": [
    {
     "name": "stdout",
     "output_type": "stream",
     "text": [
      "Resumen de imágenes en el dataset:\n",
      " - Train: 44 imágenes\n",
      " - Val: 10 imágenes\n",
      " - Test: 10 imágenes\n"
     ]
    },
    {
     "data": {
      "text/plain": [
       "{'train': 44, 'val': 10, 'test': 10}"
      ]
     },
     "execution_count": 8,
     "metadata": {},
     "output_type": "execute_result"
    }
   ],
   "source": [
    "import os\n",
    "\n",
    "def contar_imagenes(dataset_path):\n",
    "    conjuntos = ['train', 'val', 'test']\n",
    "    resumen = {}\n",
    "\n",
    "    for conjunto in conjuntos:\n",
    "        carpeta = os.path.join(dataset_path, conjunto)\n",
    "        if os.path.exists(carpeta):\n",
    "            num_imagenes = len([archivo for archivo in os.listdir(carpeta) if archivo.lower().endswith(('.png', '.jpg', '.jpeg'))])\n",
    "            resumen[conjunto] = num_imagenes\n",
    "        else:\n",
    "            resumen[conjunto] = 0  # Si la carpeta no existe, se asigna 0\n",
    "\n",
    "    # Mostrar el resumen de imágenes\n",
    "    print(\"Resumen de imágenes en el dataset:\")\n",
    "    for conjunto, num_imagenes in resumen.items():\n",
    "        print(f\" - {conjunto.capitalize()}: {num_imagenes} imágenes\")\n",
    "\n",
    "    return resumen\n",
    "\n",
    "# Ruta al directorio del dataset\n",
    "ruta_dataset = 'datasets'\n",
    "contar_imagenes(ruta_dataset)"
   ]
  }
 ],
 "metadata": {
  "kernelspec": {
   "display_name": "ambiente",
   "language": "python",
   "name": "python3"
  },
  "language_info": {
   "codemirror_mode": {
    "name": "ipython",
    "version": 3
   },
   "file_extension": ".py",
   "mimetype": "text/x-python",
   "name": "python",
   "nbconvert_exporter": "python",
   "pygments_lexer": "ipython3",
   "version": "3.12.1"
  }
 },
 "nbformat": 4,
 "nbformat_minor": 2
}
