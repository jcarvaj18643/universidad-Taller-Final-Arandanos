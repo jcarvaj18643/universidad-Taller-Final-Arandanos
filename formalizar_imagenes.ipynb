{
 "cells": [
  {
   "cell_type": "code",
   "execution_count": 2,
   "metadata": {},
   "outputs": [],
   "source": [
    "from PIL import Image\n",
    "import os"
   ]
  },
  {
   "cell_type": "code",
   "execution_count": 3,
   "metadata": {},
   "outputs": [],
   "source": [
    "def convert_images_to_jpg(input_folder, output_folder, output_name=\"arandano\"):\n",
    "    # Crear la carpeta de destino si no existe\n",
    "    os.makedirs(output_folder, exist_ok=True)\n",
    "    \n",
    "    # Crear una lista de archivos en la carpeta especificada\n",
    "    images = [f for f in os.listdir(input_folder) if f.endswith(('png', 'jpeg', 'bmp', 'gif', 'tiff', 'jpg'))]\n",
    "    consecutivo = 600\n",
    "\n",
    "    # Procesar cada imagen\n",
    "    for image_name in images:\n",
    "        # Construir la ruta completa de la imagen\n",
    "        image_path = os.path.join(input_folder, image_name)\n",
    "        \n",
    "        # Abrir la imagen\n",
    "        with Image.open(image_path) as img:\n",
    "            # Convertir la imagen a modo RGB (por si es PNG o tiene transparencia)\n",
    "            img = img.convert(\"RGB\")\n",
    "            \n",
    "            # Obtener las dimensiones de la imagen\n",
    "            width, height = img.size\n",
    "            size_str = f\"{width}x{height}\"\n",
    "            \n",
    "            # Crear el nuevo nombre de archivo\n",
    "            new_name = f\"{output_name}_{size_str}_{consecutivo}.jpg\"\n",
    "            new_path = os.path.join(output_folder, new_name)\n",
    "            \n",
    "            # Guardar la imagen en la carpeta de destino en formato JPG\n",
    "            img.save(new_path, \"JPEG\")\n",
    "            print(f\"Imagen convertida y guardada como {new_name} en {output_folder}\")\n",
    "            \n",
    "            # Incrementar el consecutivo\n",
    "            consecutivo += 1"
   ]
  },
  {
   "cell_type": "code",
   "execution_count": 4,
   "metadata": {},
   "outputs": [
    {
     "name": "stdout",
     "output_type": "stream",
     "text": [
      "Imagen convertida y guardada como arandano_1024x768_600.jpg en destino1\n",
      "Imagen convertida y guardada como arandano_1620x1080_601.jpg en destino1\n",
      "Imagen convertida y guardada como arandano_1000x1000_602.jpg en destino1\n",
      "Imagen convertida y guardada como arandano_1000x1239_603.jpg en destino1\n",
      "Imagen convertida y guardada como arandano_2560x1920_604.jpg en destino1\n",
      "Imagen convertida y guardada como arandano_1824x1240_605.jpg en destino1\n",
      "Imagen convertida y guardada como arandano_1344x1792_606.jpg en destino1\n",
      "Imagen convertida y guardada como arandano_894x894_607.jpg en destino1\n",
      "Imagen convertida y guardada como arandano_1118x1070_608.jpg en destino1\n",
      "Imagen convertida y guardada como arandano_894x894_609.jpg en destino1\n",
      "Imagen convertida y guardada como arandano_1200x800_610.jpg en destino1\n",
      "Imagen convertida y guardada como arandano_894x894_611.jpg en destino1\n",
      "Imagen convertida y guardada como arandano_1170x780_612.jpg en destino1\n",
      "Imagen convertida y guardada como arandano_1300x868_613.jpg en destino1\n",
      "Imagen convertida y guardada como arandano_1414x1414_614.jpg en destino1\n",
      "Imagen convertida y guardada como arandano_2560x1921_615.jpg en destino1\n",
      "Imagen convertida y guardada como arandano_2560x1921_616.jpg en destino1\n",
      "Imagen convertida y guardada como arandano_1655x1039_617.jpg en destino1\n",
      "Imagen convertida y guardada como arandano_894x894_618.jpg en destino1\n",
      "Imagen convertida y guardada como arandano_1047x1000_619.jpg en destino1\n",
      "Imagen convertida y guardada como arandano_1200x1200_620.jpg en destino1\n",
      "Imagen convertida y guardada como arandano_2560x1707_621.jpg en destino1\n",
      "Imagen convertida y guardada como arandano_1200x900_622.jpg en destino1\n",
      "Imagen convertida y guardada como arandano_1024x768_623.jpg en destino1\n"
     ]
    },
    {
     "name": "stderr",
     "output_type": "stream",
     "text": [
      "d:\\deteccion\\universidad-Taller-Final-Arandanos\\ambiente\\Lib\\site-packages\\PIL\\Image.py:1054: UserWarning: Palette images with Transparency expressed in bytes should be converted to RGBA images\n",
      "  warnings.warn(\n"
     ]
    },
    {
     "name": "stdout",
     "output_type": "stream",
     "text": [
      "Imagen convertida y guardada como arandano_1485x1424_624.jpg en destino1\n",
      "Imagen convertida y guardada como arandano_2000x834_625.jpg en destino1\n",
      "Imagen convertida y guardada como arandano_1200x800_626.jpg en destino1\n",
      "Imagen convertida y guardada como arandano_1920x1080_627.jpg en destino1\n",
      "Imagen convertida y guardada como arandano_1920x1276_628.jpg en destino1\n",
      "Imagen convertida y guardada como arandano_1200x675_629.jpg en destino1\n",
      "Imagen convertida y guardada como arandano_1280x720_630.jpg en destino1\n",
      "Imagen convertida y guardada como arandano_800x1067_631.jpg en destino1\n",
      "Imagen convertida y guardada como arandano_819x1024_632.jpg en destino1\n",
      "Imagen convertida y guardada como arandano_1920x1280_633.jpg en destino1\n",
      "Imagen convertida y guardada como arandano_1200x1690_634.jpg en destino1\n",
      "Imagen convertida y guardada como arandano_2048x1363_635.jpg en destino1\n",
      "Imagen convertida y guardada como arandano_1200x675_636.jpg en destino1\n",
      "Imagen convertida y guardada como arandano_1030x991_637.jpg en destino1\n",
      "Imagen convertida y guardada como arandano_800x1083_638.jpg en destino1\n",
      "Imagen convertida y guardada como arandano_2560x1707_639.jpg en destino1\n",
      "Imagen convertida y guardada como arandano_1366x768_640.jpg en destino1\n",
      "Imagen convertida y guardada como arandano_1920x1080_641.jpg en destino1\n",
      "Imagen convertida y guardada como arandano_768x1024_642.jpg en destino1\n",
      "Imagen convertida y guardada como arandano_2000x1333_643.jpg en destino1\n",
      "Imagen convertida y guardada como arandano_2000x1359_644.jpg en destino1\n",
      "Imagen convertida y guardada como arandano_1024x768_645.jpg en destino1\n",
      "Imagen convertida y guardada como arandano_1280x720_646.jpg en destino1\n",
      "Imagen convertida y guardada como arandano_1280x720_647.jpg en destino1\n",
      "Imagen convertida y guardada como arandano_1280x720_648.jpg en destino1\n",
      "Imagen convertida y guardada como arandano_1280x720_649.jpg en destino1\n",
      "Imagen convertida y guardada como arandano_1280x720_650.jpg en destino1\n",
      "Imagen convertida y guardada como arandano_1024x768_651.jpg en destino1\n",
      "Imagen convertida y guardada como arandano_1254x836_652.jpg en destino1\n",
      "Imagen convertida y guardada como arandano_1600x1060_653.jpg en destino1\n",
      "Imagen convertida y guardada como arandano_1800x600_654.jpg en destino1\n",
      "Imagen convertida y guardada como arandano_1254x836_655.jpg en destino1\n",
      "Imagen convertida y guardada como arandano_1071x1690_656.jpg en destino1\n",
      "Imagen convertida y guardada como arandano_1600x1009_657.jpg en destino1\n",
      "Imagen convertida y guardada como arandano_1046x1200_658.jpg en destino1\n",
      "Imagen convertida y guardada como arandano_1080x1080_659.jpg en destino1\n",
      "Imagen convertida y guardada como arandano_1194x1200_660.jpg en destino1\n",
      "Imagen convertida y guardada como arandano_1900x1266_661.jpg en destino1\n",
      "Imagen convertida y guardada como arandano_1500x1099_662.jpg en destino1\n",
      "Imagen convertida y guardada como arandano_2560x1184_663.jpg en destino1\n",
      "Imagen convertida y guardada como arandano_1280x853_664.jpg en destino1\n",
      "Imagen convertida y guardada como arandano_984x884_665.jpg en destino1\n"
     ]
    }
   ],
   "source": [
    "input_folder = \"imagenes2\"\n",
    "output_folder = \"destino1\"\n",
    "\n",
    "# Ejecutar la función\n",
    "convert_images_to_jpg(input_folder, output_folder)"
   ]
  }
 ],
 "metadata": {
  "kernelspec": {
   "display_name": "ambiente",
   "language": "python",
   "name": "python3"
  },
  "language_info": {
   "codemirror_mode": {
    "name": "ipython",
    "version": 3
   },
   "file_extension": ".py",
   "mimetype": "text/x-python",
   "name": "python",
   "nbconvert_exporter": "python",
   "pygments_lexer": "ipython3",
   "version": "3.12.4"
  }
 },
 "nbformat": 4,
 "nbformat_minor": 2
}
